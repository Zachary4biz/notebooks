{
 "cells": [
  {
   "cell_type": "code",
   "execution_count": 1,
   "metadata": {},
   "outputs": [
    {
     "name": "stderr",
     "output_type": "stream",
     "text": [
      "/home/zhoutong/python3/lib/python3.6/importlib/_bootstrap.py:219: RuntimeWarning: compiletime version 3.5 of module 'tensorflow.python.framework.fast_tensor_util' does not match runtime version 3.6\n",
      "  return f(*args, **kwds)\n"
     ]
    }
   ],
   "source": [
    "import pandas as pd\n",
    "import xgboost as xgb\n",
    "from sklearn.preprocessing import LabelEncoder\n",
    "from sklearn.base import TransformerMixin\n",
    "import numpy as np\n",
    "import itertools\n",
    "from IPython.core.interactiveshell import InteractiveShell\n",
    "InteractiveShell.ast_node_interactivity = \"all\"\n",
    "import tensorflow as tf\n",
    "\n",
    "%matplotlib inline\n",
    "import matplotlib.pyplot as plt\n",
    "plt.style.use('ggplot')"
   ]
  },
  {
   "cell_type": "markdown",
   "metadata": {},
   "source": [
    "### 读取数据部分"
   ]
  },
  {
   "cell_type": "code",
   "execution_count": 2,
   "metadata": {},
   "outputs": [],
   "source": [
    "global_path = \"/home/zhoutong/data/apus_ad/data_2018-09-03_to_2018-09-09/data_2018-09-03_to_2018-09-09_train_shuffled\"\n",
    "f=open(global_path,\"r\")\n",
    "line = f.readline()\n",
    "info = line.strip(\"[]\\n\").split(\"\\t\")"
   ]
  },
  {
   "cell_type": "code",
   "execution_count": 3,
   "metadata": {
    "code_folding": [
     10,
     25,
     3
    ]
   },
   "outputs": [],
   "source": [
    "global_path = \"/home/zhoutong/data/apus_ad/data_2018-09-03_to_2018-09-09/data_2018-09-03_to_2018-09-09_train_shuffled\"\n",
    "global_max_numeric = [999, 10001,13]\n",
    "## 为测试xgb构造字符串libsvm的输入\n",
    "def _yield_xgb_libsvm(reader_path):\n",
    "    with open(reader_path, \"r\") as f:\n",
    "        for line in f:\n",
    "            info = line.strip(\"[]\\n\").split(\"\\t\")\n",
    "            tmp = \" \".join(info[:3]).split(\" \")\n",
    "            info_str = \" \".join([tmp[0]] + sorted(tmp[1:], key=lambda x : int(x.split(\":\")[0])))\n",
    "            yield info_str\n",
    "def get_xgb_generator():\n",
    "    return _yield_xgb_libsvm(global_path)\n",
    "\n",
    "\n",
    "## DeepFM使用的输入\n",
    "def _yield_apus_ad_generator(reader_path,max_numeric):\n",
    "        with open(reader_path, \"r\") as f:\n",
    "            for line in f:\n",
    "                info = line.strip(\"[]\\n\").split(\"\\t\")\n",
    "                label = int(info[0])\n",
    "                numeric_f = info[1].split(\" \")\n",
    "                category_f = info[2].split(\" \")\n",
    "                multi_hot_f_app = info[3].split(\" \")\n",
    "                multi_hot_f_tag = info[4].split(\" \")\n",
    "                y = [label]\n",
    "                def get_idx_and_value(feature_info):\n",
    "                    idx = [int(x.split(\":\")[0]) for x in feature_info]\n",
    "                    value = [float(x.split(\":\")[1]) for x in feature_info]\n",
    "                    return idx,value\n",
    "                Xi_numeric, Xv_numeric = get_idx_and_value(numeric_f)\n",
    "                Xi_category, Xv_category = get_idx_and_value(category_f)\n",
    "                Xi_multi_hot_app, Xv_multi_hot_app = get_idx_and_value(multi_hot_f_app)\n",
    "                Xi_multi_hot_tag, Xv_multi_hot_tag = get_idx_and_value(multi_hot_f_tag)\n",
    "                if sorted(zip(Xi_numeric, Xv_numeric),key=lambda x: x[0])[1][1]==0:\n",
    "                    pass\n",
    "                # Xv_numeric 归一化\n",
    "                if len(max_numeric)>0:\n",
    "                    # 根据索引是0还是1还是2从 max_nuemeric里面取值\n",
    "                    Xv_numeric = []\n",
    "                    for i in numeric_f:\n",
    "                        idx = int(i.split(\":\")[0])\n",
    "                        v = float(i.split(\":\")[1])\n",
    "                        Xv_numeric.append(v/max_numeric[idx])\n",
    "                    Xv_numeric = list(map(lambda x: x if x<=1 else 1, Xv_numeric))\n",
    "                yield [y, Xi_numeric, Xv_numeric, Xi_category, Xv_category, Xi_multi_hot_app, Xv_multi_hot_app,Xi_multi_hot_tag,Xv_multi_hot_tag]\n",
    "def get_generator(max_numeric_):\n",
    "    return _yield_apus_ad_generator(global_path,max_numeric_)\n",
    "\n",
    "data_gen = get_generator(global_max_numeric)\n",
    "xgb_data_gen=get_xgb_generator()"
   ]
  },
  {
   "cell_type": "code",
   "execution_count": 4,
   "metadata": {},
   "outputs": [
    {
     "data": {
      "text/plain": [
       "189052"
      ]
     },
     "execution_count": 4,
     "metadata": {},
     "output_type": "execute_result"
    }
   ],
   "source": [
    "feature_map_dict = {}\n",
    "with open(\"/home/zhoutong/data/apus_ad/data_2018-08-20_to_2018-09-09_sampled/feature_map_2018-08-20_to_2018-09-02\",\"r\") as f:\n",
    "    feature_map = f.readlines()\n",
    "    feature_map = map(lambda x: x.split(\"\\t\") ,feature_map)\n",
    "    for f_name,f_idx in feature_map:\n",
    "        feature_map_dict[int(f_idx)] = f_name\n",
    "\n",
    "len(feature_map_dict)"
   ]
  },
  {
   "cell_type": "code",
   "execution_count": 28,
   "metadata": {},
   "outputs": [
    {
     "data": {
      "text/plain": [
       "(50, 28, 2)"
      ]
     },
     "execution_count": 28,
     "metadata": {},
     "output_type": "execute_result"
    }
   ],
   "source": [
    "data = list(itertools.islice(xgb_data_gen,0,50))\n",
    "y_ , feature_ = [], []\n",
    "for i in data:\n",
    "    label = i.split(\" \")[0]\n",
    "    feat = i.split(\" \")[1:]\n",
    "    feature = []\n",
    "    for j in feat:\n",
    "        feat_name = feature_map_dict[int(j.split(\":\")[0])]\n",
    "        feat_value = float(j.split(\":\")[1])\n",
    "        feature.append([feat_name, feat_value])\n",
    "    feature_.append(feature)\n",
    "    y_.append(label)\n",
    "\n",
    "# y_\n",
    "np.array(feature_).shape\n",
    "\n",
    "\n",
    "\n",
    "\n",
    "\n",
    "\n",
    "\n"
   ]
  },
  {
   "cell_type": "markdown",
   "metadata": {},
   "source": [
    "## 数据分析\n",
    "<br/>\n",
    "\n",
    "- ### 检查异常数据的条数（广告底价为0认为是异常数据）"
   ]
  },
  {
   "cell_type": "code",
   "execution_count": 109,
   "metadata": {
    "code_folding": [
     0
    ]
   },
   "outputs": [
    {
     "name": "stdout",
     "output_type": "stream",
     "text": [
      "0\n",
      "CPU times: user 13min 36s, sys: 2.29 s, total: 13min 38s\n",
      "Wall time: 13min 37s\n"
     ]
    }
   ],
   "source": [
    "%%time\n",
    "cnt = 0\n",
    "while True:\n",
    "    try:\n",
    "        idx,v = next(data_gen)[1:3]\n",
    "        if sorted(zip(idx, v),key=lambda x: x[0])[1][1]==0:\n",
    "            cnt += 1\n",
    "    except StopIteration:\n",
    "        break\n",
    "print(cnt)"
   ]
  },
  {
   "cell_type": "code",
   "execution_count": 7,
   "metadata": {},
   "outputs": [],
   "source": [
    "data_gen_no_normalize = get_generator([])\n",
    "template_data = list(itertools.islice(data_gen_no_normalize,0,1024*10))\n",
    "xgb_template_data = list(itertools.islice(xgb_data_gen,0,1024*10))\n"
   ]
  },
  {
   "cell_type": "markdown",
   "metadata": {},
   "source": [
    "- ### 查看三个连续特征的情况\n",
    "    <br/>\n",
    "    \n",
    "    - 分布可视化"
   ]
  },
  {
   "cell_type": "code",
   "execution_count": 8,
   "metadata": {
    "scrolled": false
   },
   "outputs": [
    {
     "data": {
      "text/plain": [
       "f0\n",
       "0.0     6221\n",
       "42.0     113\n",
       "44.0     113\n",
       "39.0     108\n",
       "dtype: int64"
      ]
     },
     "execution_count": 8,
     "metadata": {},
     "output_type": "execute_result"
    },
    {
     "data": {
      "text/plain": [
       "f1\n",
       "1.0       1407\n",
       "60.0       985\n",
       "1368.0     662\n",
       "1259.0     328\n",
       "dtype: int64"
      ]
     },
     "execution_count": 8,
     "metadata": {},
     "output_type": "execute_result"
    },
    {
     "data": {
      "text/plain": [
       "f2\n",
       "0.0    6413\n",
       "3.0     759\n",
       "4.0     732\n",
       "5.0     636\n",
       "dtype: int64"
      ]
     },
     "execution_count": 8,
     "metadata": {},
     "output_type": "execute_result"
    },
    {
     "data": {
      "text/plain": [
       "count    10240.000000\n",
       "mean        18.454785\n",
       "std         27.108034\n",
       "min          0.000000\n",
       "25%          0.000000\n",
       "50%          0.000000\n",
       "75%         39.000000\n",
       "max        639.000000\n",
       "Name: f0, dtype: float64"
      ]
     },
     "execution_count": 8,
     "metadata": {},
     "output_type": "execute_result"
    },
    {
     "data": {
      "text/plain": [
       "Text(0.5, 1.0, 'pic-f0')"
      ]
     },
     "execution_count": 8,
     "metadata": {},
     "output_type": "execute_result"
    },
    {
     "data": {
      "image/png": "[encoded data removed]",
      "text/plain": [
       "<Figure size 432x288 with 1 Axes>"
      ]
     },
     "metadata": {
      "needs_background": "light"
     },
     "output_type": "display_data"
    },
    {
     "data": {
      "text/plain": [
       "count    10240.000000\n",
       "mean       446.442383\n",
       "std        917.213341\n",
       "min          1.000000\n",
       "25%         50.000000\n",
       "50%        108.000000\n",
       "75%        340.000000\n",
       "max       8670.000000\n",
       "Name: f1, dtype: float64"
      ]
     },
     "execution_count": 8,
     "metadata": {},
     "output_type": "execute_result"
    },
    {
     "data": {
      "text/plain": [
       "Text(0.5, 1.0, 'pic-f1')"
      ]
     },
     "execution_count": 8,
     "metadata": {},
     "output_type": "execute_result"
    },
    {
     "data": {
      "image/png": "[encoded data removed]",
      "text/plain": [
       "<Figure size 432x288 with 1 Axes>"
      ]
     },
     "metadata": {
      "needs_background": "light"
     },
     "output_type": "display_data"
    },
    {
     "data": {
      "text/plain": [
       "count    10240.000000\n",
       "mean         1.475586\n",
       "std          2.214097\n",
       "min          0.000000\n",
       "25%          0.000000\n",
       "50%          0.000000\n",
       "75%          3.000000\n",
       "max         13.000000\n",
       "Name: f2, dtype: float64"
      ]
     },
     "execution_count": 8,
     "metadata": {},
     "output_type": "execute_result"
    },
    {
     "data": {
      "text/plain": [
       "Text(0.5, 1.0, 'pic-f2')"
      ]
     },
     "execution_count": 8,
     "metadata": {},
     "output_type": "execute_result"
    },
    {
     "data": {
      "image/png": "[encoded data removed]",
      "text/plain": [
       "<Figure size 432x288 with 1 Axes>"
      ]
     },
     "metadata": {
      "needs_background": "light"
     },
     "output_type": "display_data"
    }
   ],
   "source": [
    "kv_list = [sorted(zip(a,b), key=lambda x:x[0]) for a,b in map(lambda x:x[1:3], template_data)]\n",
    "df = pd.DataFrame([list(map(lambda x:x[1], kv)) for kv in kv_list], columns=[\"f0\",\"f1\",\"f2\"])\n",
    "for name in [\"f0\",\"f1\",\"f2\"]:\n",
    "    df.groupby(name).size().sort_values(ascending=False).head(4)\n",
    "for name in [\"f0\",\"f1\",\"f2\"]:\n",
    "    df[name].describe()\n",
    "    n, bins, patches = plt.hist(df[name],bins=256,color='r')\n",
    "    plt.title(\"pic-%s\" % name)\n",
    "    plt.show()"
   ]
  },
  {
   "cell_type": "markdown",
   "metadata": {},
   "source": [
    "- XGB + 相关性系数分析"
   ]
  },
  {
   "cell_type": "code",
   "execution_count": 50,
   "metadata": {
    "code_folding": [
     9
    ],
    "scrolled": false
   },
   "outputs": [
    {
     "data": {
      "text/plain": [
       "XGBClassifier(base_score=0.5, booster='gbtree', colsample_bylevel=1,\n",
       "       colsample_bytree=1, gamma=0, learning_rate=0.05, max_delta_step=0,\n",
       "       max_depth=3, min_child_weight=1, missing=None, n_estimators=300,\n",
       "       n_jobs=1, nthread=None, objective='binary:logistic', random_state=0,\n",
       "       reg_alpha=0, reg_lambda=1, scale_pos_weight=1, seed=None,\n",
       "       silent=True, subsample=1)"
      ]
     },
     "execution_count": 50,
     "metadata": {},
     "output_type": "execute_result"
    }
   ],
   "source": [
    "from scipy import sparse\n",
    "\n",
    "feat_matrix = sparse.dok_matrix((len(xgb_template_data),189052 + 1))\n",
    "y = [int(i.split(\" \")[0]) for i in xgb_template_data]\n",
    "for i in range(0,len(xgb_template_data)):\n",
    "    data = xgb_template_data[i]\n",
    "    feature_pair = map(lambda x: x.split(\":\"), data.split(\" \")[1:])\n",
    "    for idx_str, value_str in feature_pair:\n",
    "        feat_matrix[i,int(idx_str)] = float(value_str)\n",
    "\n",
    "gbm = xgb.XGBClassifier(max_depth=3, n_estimators=300, learning_rate=0.05)\n",
    "gbm.fit(feat_matrix,y)"
   ]
  },
  {
   "cell_type": "code",
   "execution_count": null,
   "metadata": {},
   "outputs": [],
   "source": [
    "feat_imp = gbm.feature_importances_\n",
    "a = feat_imp[feat_imp.nonzero()]\n",
    "b = map(lambda x: feature_map_dict[x]+\", \"+str(x), feat_imp.nonzero()[0])\n",
    "feat_imp_sorted = sorted(zip(a,b), key=lambda x: x[0], reverse=True)\n",
    "feat_imp_sorted[:20]\n",
    "list(filter(lambda x: \"tag\" in x[1], feat_imp_sorted))[:5]"
   ]
  },
  {
   "cell_type": "code",
   "execution_count": 53,
   "metadata": {},
   "outputs": [
    {
     "name": "stderr",
     "output_type": "stream",
     "text": [
      "/home/zhoutong/python3/lib/python3.6/site-packages/sklearn/preprocessing/label.py:151: DeprecationWarning: The truth value of an empty array is ambiguous. Returning False, but in future this will result in an error. Use `array.size > 0` to check that an array is not empty.\n",
      "  if diff:\n"
     ]
    },
    {
     "ename": "ImportError",
     "evalue": "cannot import name 'logloss'",
     "output_type": "error",
     "traceback": [
      "\u001b[0;31m---------------------------------------------------------------------------\u001b[0m",
      "\u001b[0;31mImportError\u001b[0m                               Traceback (most recent call last)",
      "\u001b[0;32m<ipython-input-53-254e7f777417>\u001b[0m in \u001b[0;36m<module>\u001b[0;34m()\u001b[0m\n\u001b[1;32m      8\u001b[0m         \u001b[0mfeat_matrix\u001b[0m\u001b[0;34m[\u001b[0m\u001b[0mi\u001b[0m\u001b[0;34m,\u001b[0m\u001b[0mint\u001b[0m\u001b[0;34m(\u001b[0m\u001b[0midx_str\u001b[0m\u001b[0;34m)\u001b[0m\u001b[0;34m]\u001b[0m \u001b[0;34m=\u001b[0m \u001b[0mfloat\u001b[0m\u001b[0;34m(\u001b[0m\u001b[0mvalue_str\u001b[0m\u001b[0;34m)\u001b[0m\u001b[0;34m\u001b[0m\u001b[0m\n\u001b[1;32m      9\u001b[0m \u001b[0mpredict_y\u001b[0m \u001b[0;34m=\u001b[0m \u001b[0mgbm\u001b[0m\u001b[0;34m.\u001b[0m\u001b[0mpredict\u001b[0m\u001b[0;34m(\u001b[0m\u001b[0mvalid_feat_matrix\u001b[0m\u001b[0;34m)\u001b[0m\u001b[0;34m\u001b[0m\u001b[0m\n\u001b[0;32m---> 10\u001b[0;31m \u001b[0;32mfrom\u001b[0m \u001b[0msklearn\u001b[0m\u001b[0;34m.\u001b[0m\u001b[0mmetrics\u001b[0m \u001b[0;32mimport\u001b[0m \u001b[0mlogloss\u001b[0m\u001b[0;34m\u001b[0m\u001b[0m\n\u001b[0m\u001b[1;32m     11\u001b[0m \u001b[0mlogloss\u001b[0m\u001b[0;34m(\u001b[0m\u001b[0mvalid_y\u001b[0m\u001b[0;34m,\u001b[0m \u001b[0mpredict_y\u001b[0m\u001b[0;34m)\u001b[0m\u001b[0;34m\u001b[0m\u001b[0m\n",
      "\u001b[0;31mImportError\u001b[0m: cannot import name 'logloss'"
     ]
    }
   ],
   "source": [
    "xgb_valid = list(itertools.islice(xgb_data_gen,0,1024*10))\n",
    "valid_feat_matrix = sparse.dok_matrix((len(xgb_valid),189052 + 1))\n",
    "valid_y = [int(i.split(\" \")[0]) for i in xgb_valid]\n",
    "for i in range(0,len(xgb_template_data)):\n",
    "    data = xgb_template_data[i]\n",
    "    feature_pair = map(lambda x: x.split(\":\"), data.split(\" \")[1:])\n",
    "    for idx_str, value_str in feature_pair:\n",
    "        feat_matrix[i,int(idx_str)] = float(value_str)\n",
    "predict_y = gbm.predict(valid_feat_matrix)\n",
    "from sklearn.metrics import log_loss, roc_auc_score\n"
   ]
  },
  {
   "cell_type": "markdown",
   "metadata": {},
   "source": [
    "## TensorFlow 恢复模型，准备获取到Deep侧的输入数据作为XGBoost的特征"
   ]
  },
  {
   "cell_type": "markdown",
   "metadata": {},
   "source": [
    " ### 构造 session 和 graph，恢复好计算图"
   ]
  },
  {
   "cell_type": "code",
   "execution_count": 4,
   "metadata": {},
   "outputs": [
    {
     "ename": "ValueError",
     "evalue": "Invalid input, not integer. key: pets dtype: <dtype: 'string'>",
     "output_type": "error",
     "traceback": [
      "\u001b[0;31m---------------------------------------------------------------------------\u001b[0m",
      "\u001b[0;31mValueError\u001b[0m                                Traceback (most recent call last)",
      "\u001b[0;32m<ipython-input-4-98fbbd6693f9>\u001b[0m in \u001b[0;36m<module>\u001b[0;34m()\u001b[0m\n\u001b[1;32m      4\u001b[0m \u001b[0mcolumn\u001b[0m \u001b[0;34m=\u001b[0m \u001b[0mfeature_column\u001b[0m\u001b[0;34m.\u001b[0m\u001b[0mcategorical_column_with_identity\u001b[0m\u001b[0;34m(\u001b[0m\u001b[0mkey\u001b[0m\u001b[0;34m=\u001b[0m\u001b[0;34m'pets'\u001b[0m\u001b[0;34m,\u001b[0m \u001b[0mnum_buckets\u001b[0m\u001b[0;34m=\u001b[0m\u001b[0;36m9\u001b[0m\u001b[0;34m)\u001b[0m\u001b[0;34m\u001b[0m\u001b[0m\n\u001b[1;32m      5\u001b[0m \u001b[0mindicator\u001b[0m \u001b[0;34m=\u001b[0m \u001b[0mfeature_column\u001b[0m\u001b[0;34m.\u001b[0m\u001b[0mindicator_column\u001b[0m\u001b[0;34m(\u001b[0m\u001b[0mcolumn\u001b[0m\u001b[0;34m)\u001b[0m\u001b[0;34m\u001b[0m\u001b[0m\n\u001b[0;32m----> 6\u001b[0;31m \u001b[0mtensor\u001b[0m \u001b[0;34m=\u001b[0m \u001b[0mfeature_column\u001b[0m\u001b[0;34m.\u001b[0m\u001b[0minput_layer\u001b[0m\u001b[0;34m(\u001b[0m\u001b[0mdata\u001b[0m\u001b[0;34m,\u001b[0m \u001b[0;34m[\u001b[0m\u001b[0mindicator\u001b[0m\u001b[0;34m]\u001b[0m\u001b[0;34m)\u001b[0m\u001b[0;34m\u001b[0m\u001b[0m\n\u001b[0m\u001b[1;32m      7\u001b[0m \u001b[0;34m\u001b[0m\u001b[0m\n\u001b[1;32m      8\u001b[0m \u001b[0msess\u001b[0m\u001b[0;34m.\u001b[0m\u001b[0mrun\u001b[0m\u001b[0;34m(\u001b[0m\u001b[0mtensor\u001b[0m\u001b[0;34m)\u001b[0m\u001b[0;34m\u001b[0m\u001b[0m\n",
      "\u001b[0;32m~/python3/lib/python3.6/site-packages/tensorflow/python/feature_column/feature_column.py\u001b[0m in \u001b[0;36minput_layer\u001b[0;34m(features, feature_columns, weight_collections, trainable)\u001b[0m\n\u001b[1;32m    228\u001b[0m             \u001b[0mbuilder\u001b[0m\u001b[0;34m,\u001b[0m\u001b[0;34m\u001b[0m\u001b[0m\n\u001b[1;32m    229\u001b[0m             \u001b[0mweight_collections\u001b[0m\u001b[0;34m=\u001b[0m\u001b[0mweight_collections\u001b[0m\u001b[0;34m,\u001b[0m\u001b[0;34m\u001b[0m\u001b[0m\n\u001b[0;32m--> 230\u001b[0;31m             trainable=trainable)\n\u001b[0m\u001b[1;32m    231\u001b[0m         \u001b[0mnum_elements\u001b[0m \u001b[0;34m=\u001b[0m \u001b[0mcolumn\u001b[0m\u001b[0;34m.\u001b[0m\u001b[0m_variable_shape\u001b[0m\u001b[0;34m.\u001b[0m\u001b[0mnum_elements\u001b[0m\u001b[0;34m(\u001b[0m\u001b[0;34m)\u001b[0m  \u001b[0;31m# pylint: disable=protected-access\u001b[0m\u001b[0;34m\u001b[0m\u001b[0m\n\u001b[1;32m    232\u001b[0m         \u001b[0mbatch_size\u001b[0m \u001b[0;34m=\u001b[0m \u001b[0marray_ops\u001b[0m\u001b[0;34m.\u001b[0m\u001b[0mshape\u001b[0m\u001b[0;34m(\u001b[0m\u001b[0mtensor\u001b[0m\u001b[0;34m)\u001b[0m\u001b[0;34m[\u001b[0m\u001b[0;36m0\u001b[0m\u001b[0;34m]\u001b[0m\u001b[0;34m\u001b[0m\u001b[0m\n",
      "\u001b[0;32m~/python3/lib/python3.6/site-packages/tensorflow/python/feature_column/feature_column.py\u001b[0m in \u001b[0;36m_get_dense_tensor\u001b[0;34m(***failed resolving arguments***)\u001b[0m\n\u001b[1;32m   2531\u001b[0m     \u001b[0;31m# Feature has been already transformed. Return the intermediate\u001b[0m\u001b[0;34m\u001b[0m\u001b[0;34m\u001b[0m\u001b[0m\n\u001b[1;32m   2532\u001b[0m     \u001b[0;31m# representation created by _transform_feature.\u001b[0m\u001b[0;34m\u001b[0m\u001b[0;34m\u001b[0m\u001b[0m\n\u001b[0;32m-> 2533\u001b[0;31m     \u001b[0;32mreturn\u001b[0m \u001b[0minputs\u001b[0m\u001b[0;34m.\u001b[0m\u001b[0mget\u001b[0m\u001b[0;34m(\u001b[0m\u001b[0mself\u001b[0m\u001b[0;34m)\u001b[0m\u001b[0;34m\u001b[0m\u001b[0m\n\u001b[0m\u001b[1;32m   2534\u001b[0m \u001b[0;34m\u001b[0m\u001b[0m\n\u001b[1;32m   2535\u001b[0m \u001b[0;34m\u001b[0m\u001b[0m\n",
      "\u001b[0;32m~/python3/lib/python3.6/site-packages/tensorflow/python/feature_column/feature_column.py\u001b[0m in \u001b[0;36mget\u001b[0;34m(self, key)\u001b[0m\n\u001b[1;32m   1531\u001b[0m     \u001b[0mcolumn\u001b[0m \u001b[0;34m=\u001b[0m \u001b[0mkey\u001b[0m\u001b[0;34m\u001b[0m\u001b[0m\n\u001b[1;32m   1532\u001b[0m     \u001b[0mlogging\u001b[0m\u001b[0;34m.\u001b[0m\u001b[0mdebug\u001b[0m\u001b[0;34m(\u001b[0m\u001b[0;34m'Transforming feature_column %s.'\u001b[0m\u001b[0;34m,\u001b[0m \u001b[0mcolumn\u001b[0m\u001b[0;34m)\u001b[0m\u001b[0;34m\u001b[0m\u001b[0m\n\u001b[0;32m-> 1533\u001b[0;31m     \u001b[0mtransformed\u001b[0m \u001b[0;34m=\u001b[0m \u001b[0mcolumn\u001b[0m\u001b[0;34m.\u001b[0m\u001b[0m_transform_feature\u001b[0m\u001b[0;34m(\u001b[0m\u001b[0mself\u001b[0m\u001b[0;34m)\u001b[0m  \u001b[0;31m# pylint: disable=protected-access\u001b[0m\u001b[0;34m\u001b[0m\u001b[0m\n\u001b[0m\u001b[1;32m   1534\u001b[0m     \u001b[0;32mif\u001b[0m \u001b[0mtransformed\u001b[0m \u001b[0;32mis\u001b[0m \u001b[0;32mNone\u001b[0m\u001b[0;34m:\u001b[0m\u001b[0;34m\u001b[0m\u001b[0m\n\u001b[1;32m   1535\u001b[0m       \u001b[0;32mraise\u001b[0m \u001b[0mValueError\u001b[0m\u001b[0;34m(\u001b[0m\u001b[0;34m'Column {} is not supported.'\u001b[0m\u001b[0;34m.\u001b[0m\u001b[0mformat\u001b[0m\u001b[0;34m(\u001b[0m\u001b[0mcolumn\u001b[0m\u001b[0;34m.\u001b[0m\u001b[0mname\u001b[0m\u001b[0;34m)\u001b[0m\u001b[0;34m)\u001b[0m\u001b[0;34m\u001b[0m\u001b[0m\n",
      "\u001b[0;32m~/python3/lib/python3.6/site-packages/tensorflow/python/feature_column/feature_column.py\u001b[0m in \u001b[0;36m_transform_feature\u001b[0;34m(self, inputs)\u001b[0m\n\u001b[1;32m   2474\u001b[0m       \u001b[0mValueError\u001b[0m\u001b[0;34m:\u001b[0m \u001b[0;32mif\u001b[0m \u001b[0minput\u001b[0m \u001b[0mrank\u001b[0m \u001b[0;32mis\u001b[0m \u001b[0;32mnot\u001b[0m \u001b[0mknown\u001b[0m \u001b[0mat\u001b[0m \u001b[0mgraph\u001b[0m \u001b[0mbuilding\u001b[0m \u001b[0mtime\u001b[0m\u001b[0;34m.\u001b[0m\u001b[0;34m\u001b[0m\u001b[0m\n\u001b[1;32m   2475\u001b[0m     \"\"\"\n\u001b[0;32m-> 2476\u001b[0;31m     \u001b[0mid_weight_pair\u001b[0m \u001b[0;34m=\u001b[0m \u001b[0mself\u001b[0m\u001b[0;34m.\u001b[0m\u001b[0mcategorical_column\u001b[0m\u001b[0;34m.\u001b[0m\u001b[0m_get_sparse_tensors\u001b[0m\u001b[0;34m(\u001b[0m\u001b[0minputs\u001b[0m\u001b[0;34m)\u001b[0m  \u001b[0;31m# pylint: disable=protected-access\u001b[0m\u001b[0;34m\u001b[0m\u001b[0m\n\u001b[0m\u001b[1;32m   2477\u001b[0m     \u001b[0mid_tensor\u001b[0m \u001b[0;34m=\u001b[0m \u001b[0mid_weight_pair\u001b[0m\u001b[0;34m.\u001b[0m\u001b[0mid_tensor\u001b[0m\u001b[0;34m\u001b[0m\u001b[0m\n\u001b[1;32m   2478\u001b[0m     \u001b[0mweight_tensor\u001b[0m \u001b[0;34m=\u001b[0m \u001b[0mid_weight_pair\u001b[0m\u001b[0;34m.\u001b[0m\u001b[0mweight_tensor\u001b[0m\u001b[0;34m\u001b[0m\u001b[0m\n",
      "\u001b[0;32m~/python3/lib/python3.6/site-packages/tensorflow/python/feature_column/feature_column.py\u001b[0m in \u001b[0;36m_get_sparse_tensors\u001b[0;34m(self, inputs, weight_collections, trainable)\u001b[0m\n\u001b[1;32m   2180\u001b[0m   def _get_sparse_tensors(\n\u001b[1;32m   2181\u001b[0m       self, inputs, weight_collections=None, trainable=None):\n\u001b[0;32m-> 2182\u001b[0;31m     \u001b[0;32mreturn\u001b[0m \u001b[0m_CategoricalColumn\u001b[0m\u001b[0;34m.\u001b[0m\u001b[0mIdWeightPair\u001b[0m\u001b[0;34m(\u001b[0m\u001b[0minputs\u001b[0m\u001b[0;34m.\u001b[0m\u001b[0mget\u001b[0m\u001b[0;34m(\u001b[0m\u001b[0mself\u001b[0m\u001b[0;34m)\u001b[0m\u001b[0;34m,\u001b[0m \u001b[0;32mNone\u001b[0m\u001b[0;34m)\u001b[0m\u001b[0;34m\u001b[0m\u001b[0m\n\u001b[0m\u001b[1;32m   2183\u001b[0m \u001b[0;34m\u001b[0m\u001b[0m\n\u001b[1;32m   2184\u001b[0m \u001b[0;34m\u001b[0m\u001b[0m\n",
      "\u001b[0;32m~/python3/lib/python3.6/site-packages/tensorflow/python/feature_column/feature_column.py\u001b[0m in \u001b[0;36mget\u001b[0;34m(self, key)\u001b[0m\n\u001b[1;32m   1531\u001b[0m     \u001b[0mcolumn\u001b[0m \u001b[0;34m=\u001b[0m \u001b[0mkey\u001b[0m\u001b[0;34m\u001b[0m\u001b[0m\n\u001b[1;32m   1532\u001b[0m     \u001b[0mlogging\u001b[0m\u001b[0;34m.\u001b[0m\u001b[0mdebug\u001b[0m\u001b[0;34m(\u001b[0m\u001b[0;34m'Transforming feature_column %s.'\u001b[0m\u001b[0;34m,\u001b[0m \u001b[0mcolumn\u001b[0m\u001b[0;34m)\u001b[0m\u001b[0;34m\u001b[0m\u001b[0m\n\u001b[0;32m-> 1533\u001b[0;31m     \u001b[0mtransformed\u001b[0m \u001b[0;34m=\u001b[0m \u001b[0mcolumn\u001b[0m\u001b[0;34m.\u001b[0m\u001b[0m_transform_feature\u001b[0m\u001b[0;34m(\u001b[0m\u001b[0mself\u001b[0m\u001b[0;34m)\u001b[0m  \u001b[0;31m# pylint: disable=protected-access\u001b[0m\u001b[0;34m\u001b[0m\u001b[0m\n\u001b[0m\u001b[1;32m   1534\u001b[0m     \u001b[0;32mif\u001b[0m \u001b[0mtransformed\u001b[0m \u001b[0;32mis\u001b[0m \u001b[0;32mNone\u001b[0m\u001b[0;34m:\u001b[0m\u001b[0;34m\u001b[0m\u001b[0m\n\u001b[1;32m   1535\u001b[0m       \u001b[0;32mraise\u001b[0m \u001b[0mValueError\u001b[0m\u001b[0;34m(\u001b[0m\u001b[0;34m'Column {} is not supported.'\u001b[0m\u001b[0;34m.\u001b[0m\u001b[0mformat\u001b[0m\u001b[0;34m(\u001b[0m\u001b[0mcolumn\u001b[0m\u001b[0;34m.\u001b[0m\u001b[0mname\u001b[0m\u001b[0;34m)\u001b[0m\u001b[0;34m)\u001b[0m\u001b[0;34m\u001b[0m\u001b[0m\n",
      "\u001b[0;32m~/python3/lib/python3.6/site-packages/tensorflow/python/feature_column/feature_column.py\u001b[0m in \u001b[0;36m_transform_feature\u001b[0;34m(self, inputs)\u001b[0m\n\u001b[1;32m   2142\u001b[0m       raise ValueError(\n\u001b[1;32m   2143\u001b[0m           'Invalid input, not integer. key: {} dtype: {}'.format(\n\u001b[0;32m-> 2144\u001b[0;31m               self.key, input_tensor.dtype))\n\u001b[0m\u001b[1;32m   2145\u001b[0m \u001b[0;34m\u001b[0m\u001b[0m\n\u001b[1;32m   2146\u001b[0m     \u001b[0mvalues\u001b[0m \u001b[0;34m=\u001b[0m \u001b[0mmath_ops\u001b[0m\u001b[0;34m.\u001b[0m\u001b[0mto_int64\u001b[0m\u001b[0;34m(\u001b[0m\u001b[0minput_tensor\u001b[0m\u001b[0;34m.\u001b[0m\u001b[0mvalues\u001b[0m\u001b[0;34m,\u001b[0m \u001b[0mname\u001b[0m\u001b[0;34m=\u001b[0m\u001b[0;34m'values'\u001b[0m\u001b[0;34m)\u001b[0m\u001b[0;34m\u001b[0m\u001b[0m\n",
      "\u001b[0;31mValueError\u001b[0m: Invalid input, not integer. key: pets dtype: <dtype: 'string'>"
     ]
    }
   ],
   "source": [
    "from tensorflow import feature_column\n",
    "sess = tf.Session()\n",
    "data = {'pets': ['cat','dot','fish','rabbit']}\n",
    "column = feature_column.categorical_column_with_identity(key='pets', num_buckets=9)\n",
    "indicator = feature_column.indicator_column(column)\n",
    "tensor = feature_column.input_layer(data, [indicator])\n",
    "\n",
    "sess.run(tensor)"
   ]
  },
  {
   "cell_type": "code",
   "execution_count": 42,
   "metadata": {
    "code_folding": []
   },
   "outputs": [
    {
     "name": "stdout",
     "output_type": "stream",
     "text": [
      "INFO:tensorflow:Restoring parameters from /home/zhoutong/py_script/model_dir/DeepFM_fieldMerge_model.ckpt-1332\n"
     ]
    }
   ],
   "source": [
    "model_ckpt_path= \"/home/zhoutong/py_script/model_dir/DeepFM_fieldMerge_model.ckpt-1332\"\n",
    "\n",
    "inp_meta_path = model_ckpt_path + \".meta\"\n",
    "model_graph = tf.Graph()\n",
    "with model_graph.as_default():\n",
    "            model_saver = tf.train.import_meta_graph(inp_meta_path)\n",
    "# session_config\n",
    "model_config = tf.ConfigProto(allow_soft_placement=True, log_device_placement=False)\n",
    "model_config.gpu_options.allow_growth = True\n",
    "# session\n",
    "model_sess = tf.Session(config=model_config, graph=model_graph)\n",
    "# 向sessino中载入参数; 注意网络保存时,占位符(tf.placeholder)是不会被保存的\n",
    "model_saver.restore(model_sess, model_ckpt_path)"
   ]
  },
  {
   "cell_type": "markdown",
   "metadata": {},
   "source": [
    "### debug专用，查看计算图里的变量，展示计算图，以及获取某个变量"
   ]
  },
  {
   "cell_type": "code",
   "execution_count": null,
   "metadata": {
    "code_folding": [
     1,
     13
    ],
    "scrolled": false
   },
   "outputs": [],
   "source": [
    "from IPython.display import clear_output, Image, display, HTML\n",
    "def strip_consts(graph_def, max_const_size=32):\n",
    "    \"\"\"Strip large constant values from graph_def.\"\"\"\n",
    "    strip_def = tf.GraphDef()\n",
    "    for n0 in graph_def.node:\n",
    "        n = strip_def.node.add() \n",
    "        n.MergeFrom(n0)\n",
    "        if n.op == 'Const':\n",
    "            tensor = n.attr['value'].tensor\n",
    "            size = len(tensor.tensor_content)\n",
    "            if size > max_const_size:\n",
    "                tensor.tensor_content = tf.compat.as_bytes(\"<stripped %d bytes>\"%size)\n",
    "    return strip_def\n",
    "def show_graph(graph_def, max_const_size=32):\n",
    "    \"\"\"Visualize TensorFlow graph.\"\"\"\n",
    "    if hasattr(graph_def, 'as_graph_def'):\n",
    "        graph_def = graph_def.as_graph_def()\n",
    "    strip_def = strip_consts(graph_def, max_const_size=max_const_size)\n",
    "    code = \"\"\"\n",
    "        <script>\n",
    "          function load() {{\n",
    "            document.getElementById(\"{id}\").pbtxt = {data};\n",
    "          }}\n",
    "        </script>\n",
    "        <link rel=\"import\" href=\"https://tensorboard.appspot.com/tf-graph-basic.build.html\" onload=load()>\n",
    "        <div style=\"height:600px\">\n",
    "          <tf-graph-basic id=\"{id}\"></tf-graph-basic>\n",
    "        </div>\n",
    "    \"\"\".format(data=repr(str(strip_def)), id='graph'+str(np.random.rand()))\n",
    "  \n",
    "    iframe = \"\"\"\n",
    "        <iframe seamless style=\"width:800px;height:620px;border:0\" srcdoc=\"{}\"></iframe>\n",
    "    \"\"\".format(code.replace('\"', '&quot;'))\n",
    "    display(HTML(iframe))\n",
    "# --- 一个可以在notebook里直接显示图的方法\n",
    "# show_graph(model_graph)\n",
    "# --- 显示各种tensor，但其实不全\n",
    "# from tensorflow.python.tools.inspect_checkpoint import print_tensors_in_checkpoint_file\n",
    "# print_tensors_in_checkpoint_file(model_ckpt_path, tensor_name=None, all_tensors=False)\n",
    "# --- 这个方法才是全的\n",
    "# [n.name for n in model_graph.as_graph_def().node]\n",
    "model_graph.get_tensor_by_name(r'tower_0/gpu_variables/Deep/input/concat:0')"
   ]
  },
  {
   "cell_type": "markdown",
   "metadata": {},
   "source": [
    "### 根据数据构造 feed_dict"
   ]
  },
  {
   "cell_type": "code",
   "execution_count": 71,
   "metadata": {
    "code_folding": [
     18,
     25,
     28,
     46
    ]
   },
   "outputs": [],
   "source": [
    "def gen_feed_dict_from(train_data_partial):\n",
    "    ###############\n",
    "    # 原始数据格式化\n",
    "    ###############\n",
    "    inp_y, inp_Xi_numeric, inp_Xv_numeric, inp_Xi_category, inp_Xv_category, inp_Xi_multi_hot_app, inp_Xv_multi_hot_app, inp_Xi_multi_hot_tag, inp_Xv_multi_hot_tag = list(map(lambda x: np.array(x), zip(*train_data_partial)))\n",
    "    tensor_dense_shape = [len(inp_y), 161720 + 1]\n",
    "    Xi_total = []\n",
    "    Xv_total = []\n",
    "    for col_id in range(len(inp_Xi_numeric)):\n",
    "        Xi_total.append(list(inp_Xi_numeric[col_id]) + list(inp_Xi_category[col_id]) + inp_Xi_multi_hot_app[col_id] + inp_Xi_multi_hot_tag[col_id])\n",
    "        Xv_total.append(list(inp_Xv_numeric[col_id]) + list(inp_Xv_category[col_id]) + inp_Xv_multi_hot_app[col_id] + inp_Xv_multi_hot_tag[col_id])\n",
    "    Xi_total = np.array(Xi_total)\n",
    "    Xv_total = np.array(Xv_total)\n",
    "\n",
    "    #############################################\n",
    "    # 构造feed_dict需要的SparseTensor和SparseValue\n",
    "    #############################################\n",
    "    # 1. 获取稀疏索引\n",
    "    def get_sparse_idx(input_df):\n",
    "        result = []\n",
    "        for i in range(len(input_df)):\n",
    "            for j in input_df[i]:\n",
    "                result.append([i, j])\n",
    "        return np.array(result)\n",
    "    # 2. 获取稀疏 SparseTensorValue\n",
    "    def get_sparse_tensor_from(input_df,inp_tensor_shape):\n",
    "        tensor_values_ = []\n",
    "        tensor_indices_ = []\n",
    "        for i in range(len(input_df)):\n",
    "            inp = input_df[i]\n",
    "            tensor_values_.extend(inp)\n",
    "            tensor_indices_.extend([[i,v] for v in range(len(inp))])\n",
    "        sp_tensor = tf.SparseTensorValue(indices=tensor_indices_, values=tensor_values_, dense_shape=inp_tensor_shape)\n",
    "        return sp_tensor\n",
    "    # 3. generating...        \n",
    "    v_numeric_sparse = np.reshape(inp_Xv_numeric, -1)\n",
    "    v_category_sparse = np.reshape(inp_Xv_category, -1)\n",
    "    idx_numeric_sparse = get_sparse_idx(inp_Xi_numeric)\n",
    "    idx_category_sparse = get_sparse_idx(inp_Xi_category)\n",
    "    multi_hot_idx_sp= get_sparse_tensor_from(inp_Xi_multi_hot_app, tensor_dense_shape)\n",
    "    multi_hot_value_sp = get_sparse_tensor_from(inp_Xv_multi_hot_app, tensor_dense_shape)\n",
    "    multi_hot_idx_sp_tag= get_sparse_tensor_from(inp_Xi_multi_hot_tag, tensor_dense_shape)\n",
    "    multi_hot_value_sp_tag = get_sparse_tensor_from(inp_Xv_multi_hot_tag, tensor_dense_shape)\n",
    "    total_idx_sp = get_sparse_tensor_from(Xi_total,tensor_dense_shape)\n",
    "    total_value_sp = get_sparse_tensor_from(Xv_total,tensor_dense_shape)\n",
    "\n",
    "    feed_dict = {\n",
    "        \"dropout_keep_deep:0\": [1.0, 1.0, 1.0, 1.0],\n",
    "        \"dropout_keep_fm:0\": [1.0, 1.0],\n",
    "        \"tower_0/gpu_variables/feat_total_idx_sp/values:0\": total_idx_sp.values,\n",
    "        \"tower_0/gpu_variables/feat_total_idx_sp/indices:0\": total_idx_sp.indices,\n",
    "        \"tower_0/gpu_variables/feat_total_value_sp/values:0\": total_value_sp.values,\n",
    "        \"tower_0/gpu_variables/feat_total_value_sp/indices:0\": total_value_sp.indices,\n",
    "        \"tower_0/gpu_variables/feat_numeric_sp/indices:0\": idx_numeric_sparse,\n",
    "        \"tower_0/gpu_variables/feat_numeric_sp/values:0\": v_numeric_sparse,\n",
    "        \"tower_0/gpu_variables/feat_numeric_sp/shape:0\": tensor_dense_shape,\n",
    "        \"tower_0/gpu_variables/feat_category_sp/indices:0\": idx_category_sparse,\n",
    "        \"tower_0/gpu_variables/feat_category_sp/values:0\": v_category_sparse,\n",
    "        \"tower_0/gpu_variables/feat_category_sp/shape:0\": tensor_dense_shape,\n",
    "        \"tower_0/gpu_variables/feat_multi_hot_idx_sp_app/values:0\": multi_hot_idx_sp.values,\n",
    "        \"tower_0/gpu_variables/feat_multi_hot_idx_sp_app/indices:0\": multi_hot_idx_sp.indices,\n",
    "        \"tower_0/gpu_variables/feat_multi_hot_value_sp_app/values:0\": multi_hot_value_sp.values,\n",
    "        \"tower_0/gpu_variables/feat_multi_hot_value_sp_app/indices:0\": multi_hot_value_sp.indices,\n",
    "        \"tower_0/gpu_variables/feat_multi_hot_idx_sp_tag/values:0\": multi_hot_idx_sp_tag.values,\n",
    "        \"tower_0/gpu_variables/feat_multi_hot_idx_sp_tag/indices:0\": multi_hot_idx_sp_tag.indices,\n",
    "        \"tower_0/gpu_variables/feat_multi_hot_value_sp_tag/values:0\": multi_hot_value_sp_tag.values,\n",
    "        \"tower_0/gpu_variables/feat_multi_hot_value_sp_tag/indices:0\": multi_hot_value_sp_tag.indices,\n",
    "        \"train_phase:0\": False}\n",
    "    return feed_dict"
   ]
  },
  {
   "cell_type": "code",
   "execution_count": 97,
   "metadata": {},
   "outputs": [
    {
     "data": {
      "text/plain": [
       "array([0, 1, 1, ..., 0, 0, 0])"
      ]
     },
     "execution_count": 97,
     "metadata": {},
     "output_type": "execute_result"
    },
    {
     "data": {
      "text/plain": [
       "array([[ 0.00228253,  0.03825256, -0.07507323, ...,  0.09009009,\n",
       "         0.        ,  0.        ],\n",
       "       [-0.05414275, -0.15046448, -0.03879726, ...,  0.001001  ,\n",
       "         0.        ,  0.        ],\n",
       "       [-0.04641292, -0.08841577, -0.12176069, ...,  0.25025025,\n",
       "         0.        ,  0.        ],\n",
       "       ...,\n",
       "       [ 0.00228253,  0.03825256, -0.07507323, ...,  0.5405405 ,\n",
       "         0.3846154 ,  0.00579942],\n",
       "       [ 0.1560738 ,  0.14484552,  0.03907644, ...,  1.        ,\n",
       "         0.        ,  0.        ],\n",
       "       [ 0.1560738 ,  0.14484552,  0.03907644, ...,  0.34034035,\n",
       "         0.        ,  0.        ]], dtype=float32)"
      ]
     },
     "execution_count": 97,
     "metadata": {},
     "output_type": "execute_result"
    }
   ],
   "source": [
    "data_gen = get_generator()\n",
    "train_data_partial = list(itertools.islice(data_gen,0,1024*90))\n",
    "# x: 计算图中的 deep_input\n",
    "feed_dict = gen_feed_dict_from(train_data_partial)\n",
    "deep_input = model_sess.run(model_graph.get_tensor_by_name(r'tower_0/gpu_variables/Deep/input/concat:0'),feed_dict)\n",
    "# y: 源数据展开成一维\n",
    "inp_y = np.array(list(zip(*train_data_partial))[0]).ravel()\n",
    "inp_y.shape\n",
    "deep_input.shape"
   ]
  },
  {
   "cell_type": "code",
   "execution_count": 98,
   "metadata": {},
   "outputs": [
    {
     "data": {
      "text/plain": [
       "XGBClassifier(base_score=0.5, booster='gbtree', colsample_bylevel=1,\n",
       "       colsample_bytree=1, gamma=0, learning_rate=0.05, max_delta_step=0,\n",
       "       max_depth=3, min_child_weight=1, missing=None, n_estimators=300,\n",
       "       n_jobs=1, nthread=None, objective='binary:logistic', random_state=0,\n",
       "       reg_alpha=0, reg_lambda=1, scale_pos_weight=1, seed=None,\n",
       "       silent=True, subsample=1)"
      ]
     },
     "execution_count": 98,
     "metadata": {},
     "output_type": "execute_result"
    }
   ],
   "source": [
    "%%time\n",
    "# max_depth 增加\n",
    "gbm = xgb.XGBClassifier(max_depth=3, n_estimators=300, learning_rate=0.05)\n",
    "gbm.fit(deep_input,inp_y)"
   ]
  },
  {
   "cell_type": "code",
   "execution_count": 107,
   "metadata": {},
   "outputs": [
    {
     "data": {
      "text/plain": [
       "(10240,)"
      ]
     },
     "execution_count": 107,
     "metadata": {},
     "output_type": "execute_result"
    },
    {
     "data": {
      "text/plain": [
       "(10240, 543)"
      ]
     },
     "execution_count": 107,
     "metadata": {},
     "output_type": "execute_result"
    }
   ],
   "source": [
    "data_gen = get_generator()\n",
    "# x: 使用计算图中的 deep_input\n",
    "valid_data = list(itertools.islice(data_gen,1024*90,1024*100))\n",
    "valid_feed_dict = gen_feed_dict_from(valid_data)\n",
    "valid_deep_input = model_sess.run(model_graph.get_tensor_by_name(r'tower_0/gpu_variables/Deep/input/concat:0'),valid_feed_dict)\n",
    "# y: 源数据\n",
    "valid_inp_y = np.array(list(zip(*valid_data))[0]).ravel()\n",
    "\n",
    "valid_inp_y.shape\n",
    "valid_deep_input.shape"
   ]
  },
  {
   "cell_type": "code",
   "execution_count": 108,
   "metadata": {},
   "outputs": [
    {
     "name": "stdout",
     "output_type": "stream",
     "text": [
      "CPU times: user 148 ms, sys: 0 ns, total: 148 ms\n",
      "Wall time: 141 ms\n"
     ]
    },
    {
     "name": "stderr",
     "output_type": "stream",
     "text": [
      "/home/zhoutong/python3/lib/python3.6/site-packages/sklearn/preprocessing/label.py:151: DeprecationWarning: The truth value of an empty array is ambiguous. Returning False, but in future this will result in an error. Use `array.size > 0` to check that an array is not empty.\n",
      "  if diff:\n"
     ]
    }
   ],
   "source": [
    "%%time\n",
    "y_predict = gbm.predict(valid_deep_input)"
   ]
  },
  {
   "cell_type": "code",
   "execution_count": 111,
   "metadata": {},
   "outputs": [
    {
     "data": {
      "text/plain": [
       "((10240,), (10240,))"
      ]
     },
     "execution_count": 111,
     "metadata": {},
     "output_type": "execute_result"
    },
    {
     "data": {
      "text/plain": [
       "(array([0, 0, 0, ..., 1, 1, 0]), array([0, 0, 0, ..., 0, 0, 0]))"
      ]
     },
     "execution_count": 111,
     "metadata": {},
     "output_type": "execute_result"
    }
   ],
   "source": [
    "y_predict.shape, valid_inp_y.shape\n",
    "y_predict, valid_inp_y"
   ]
  },
  {
   "cell_type": "code",
   "execution_count": 118,
   "metadata": {},
   "outputs": [
    {
     "data": {
      "text/plain": [
       "11.333075828280204"
      ]
     },
     "execution_count": 118,
     "metadata": {},
     "output_type": "execute_result"
    }
   ],
   "source": [
    "from sklearn.metrics import log_loss\n",
    "from sklearn.metrics import roc_auc_score\n",
    "log_loss(valid_inp_y,y_predict)"
   ]
  },
  {
   "cell_type": "code",
   "execution_count": 115,
   "metadata": {},
   "outputs": [],
   "source": [
    "y_predict_deepfm = model_sess.run(model_graph.get_tensor_by_name(r'all_pred_reshape_out:0'),valid_feed_dict).ravel()"
   ]
  },
  {
   "cell_type": "code",
   "execution_count": 116,
   "metadata": {},
   "outputs": [
    {
     "data": {
      "text/plain": [
       "(array([0.27745432, 0.0997011 , 0.07933966, ..., 0.5982073 , 0.5245451 ,\n",
       "        0.29865313], dtype=float32), (10240,))"
      ]
     },
     "execution_count": 116,
     "metadata": {},
     "output_type": "execute_result"
    }
   ],
   "source": [
    "y_predict_deepfm,y_predict_deepfm.shape"
   ]
  },
  {
   "cell_type": "code",
   "execution_count": 119,
   "metadata": {},
   "outputs": [
    {
     "data": {
      "text/plain": [
       "0.5837420748721189"
      ]
     },
     "execution_count": 119,
     "metadata": {},
     "output_type": "execute_result"
    },
    {
     "data": {
      "text/plain": [
       "0.7269108993894402"
      ]
     },
     "execution_count": 119,
     "metadata": {},
     "output_type": "execute_result"
    }
   ],
   "source": [
    "log_loss(valid_inp_y,y_predict_deepfm)\n",
    "roc_auc_score(valid_inp_y,y_predict_deepfm)"
   ]
  },
  {
   "cell_type": "code",
   "execution_count": null,
   "metadata": {},
   "outputs": [],
   "source": []
  }
 ],
 "metadata": {
  "kernelspec": {
   "display_name": "Python 3",
   "language": "python",
   "name": "python3"
  },
  "language_info": {
   "codemirror_mode": {
    "name": "ipython",
    "version": 3
   },
   "file_extension": ".py",
   "mimetype": "text/x-python",
   "name": "python",
   "nbconvert_exporter": "python",
   "pygments_lexer": "ipython3",
   "version": "3.6.5"
  }
 },
 "nbformat": 4,
 "nbformat_minor": 2
}
