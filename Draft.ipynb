{
 "cells": [
  {
   "cell_type": "code",
   "execution_count": 10,
   "metadata": {
    "ExecuteTime": {
     "end_time": "2018-12-20T11:05:27.013975Z",
     "start_time": "2018-12-20T11:05:27.008333Z"
    }
   },
   "outputs": [],
   "source": [
    "from IPython.core.interactiveshell import InteractiveShell\n",
    "InteractiveShell.ast_node_interactivity = \"all\"\n",
    "%matplotlib inline"
   ]
  },
  {
   "cell_type": "code",
   "execution_count": 2,
   "metadata": {
    "ExecuteTime": {
     "end_time": "2018-12-20T11:04:42.812771Z",
     "start_time": "2018-12-20T11:04:42.810547Z"
    }
   },
   "outputs": [],
   "source": [
    "import pandas as pd\n",
    "import math\n",
    "import matplotlib.pyplot as plt"
   ]
  },
  {
   "cell_type": "markdown",
   "metadata": {},
   "source": [
    "## wikipedia API | 获取category下的page"
   ]
  },
  {
   "cell_type": "code",
   "execution_count": null,
   "metadata": {},
   "outputs": [],
   "source": [
    "import wikipediaapi\n",
    "\n",
    "wiki_wiki = wikipediaapi.Wikipedia('en')\n",
    "\n",
    "category = wiki_wiki.page(\"Category:Indian_action_films\")\n",
    "\n",
    "\n",
    "def print_categorymembers(categorymembers, level=0, max_level=2):\n",
    "        for c in categorymembers.values():\n",
    "            print(\"{level_tag}: {title} (ns: {ns})\".format(level_tag=\"*\"*(level+1), title=c.title, ns=c.ns))\n",
    "            if c.ns == wikipediaapi.Namespace.CATEGORY and level <= max_level:\n",
    "                print_categorymembers(c.categorymembers, level + 1)\n"
   ]
  },
  {
   "cell_type": "markdown",
   "metadata": {},
   "source": [
    "## wikipedia API | 获取Pageview"
   ]
  },
  {
   "cell_type": "code",
   "execution_count": null,
   "metadata": {
    "ExecuteTime": {
     "end_time": "2018-11-08T04:35:04.186273Z",
     "start_time": "2018-11-08T04:35:03.110113Z"
    }
   },
   "outputs": [],
   "source": [
    "import pageviewapi as pv\n",
    "import pageviewapi.period\n",
    "from urllib.parse import quote\n",
    "\n",
    "# [Timeline of the 2004 Indian Ocean earthquake]\n",
    "# [Tingya]\n",
    "# [Tokyo Conference]\n",
    "# [Tom Hart (baseball)]\n",
    "# [Triloknath Pandit]\n",
    "# [Turtle Point Indian Reserve No. 12] wikipedia API 'Not found'\n",
    "# [Udupi Kochikar Pai Family]\n",
    "# [Umar Bin Muhammad Daudpota]\n",
    "# [Unacademy]\n",
    "# [University Convocation Complex]\n",
    "\n",
    "\n",
    "target_raw = \"Amitesh Mishra\"\n",
    "target = quote(target_raw)\n",
    "target\n",
    "\n",
    "b,e=\"20181010\",\"20181020\"\n",
    "\n",
    "# pv.per_article('en.wikipedia',target,b,e,access=\"all-access\",agent=\"all-agents\",granularity=\"daily\")\n",
    "\n",
    "int(pv.period.avg_last(\"en.wikipedia\",target,last=30))\n",
    "\n",
    "# pageviewapi.legacy_pagecounts('fr.wikipedia', '2010010100', '2011010100', granularity='monthly')"
   ]
  },
  {
   "cell_type": "code",
   "execution_count": null,
   "metadata": {
    "ExecuteTime": {
     "end_time": "2018-11-07T14:03:05.661487Z",
     "start_time": "2018-11-07T14:03:01.923458Z"
    }
   },
   "outputs": [],
   "source": [
    "import itertools\n",
    "import pageviewapi as pv\n",
    "import pageviewapi.period\n",
    "from collections import deque\n",
    "from urllib.parse import quote\n",
    "def gen_titles():\n",
    "    with open(\"/home/zhoutong/indiaDict_onlyTitle.txt\",\"r\") as f:\n",
    "        for line in f:\n",
    "            yield line.strip(\"[]\\n\")\n",
    "\n",
    "\n",
    "dictGen = gen_titles()\n",
    "save_batch = 1024\n",
    "cnt = 0\n",
    "with open(\"/home/zhoutong/indiaDict_title_withPV\",\"w+\") as f:\n",
    "    while True:\n",
    "        cnt += 1\n",
    "        targetList = list(itertools.islice(dictGen,save_batch))\n",
    "        if(len(targetList)>0):\n",
    "            to_write = deque()\n",
    "            for target_raw in targetList:\n",
    "                target = quote(target_raw)\n",
    "                try:\n",
    "                    last_7 = int(pv.period.sum_last(\"en.wikipedia\",target,last=7))\n",
    "                    last_30 = int(pv.period.sum_last(\"en.wikipedia\",target,last=30))\n",
    "                    last_90 = int(pv.period.sum_last(\"en.wikipedia\",target,last=90))\n",
    "                    last_365 = int(pv.period.sum_last(\"en.wikipedia\",target,last=365))\n",
    "                except pageviewapi.client.ZeroOrDataNotLoadedException as exp:\n",
    "                    last_7 = -1\n",
    "                    last_30 = -1\n",
    "                    last_90 = -1\n",
    "                    last_365 = -1\n",
    "                result = [str(i) for i in [target,last_7,last_30,last_90,last_365]]\n",
    "                to_write.append(\"\\u0394\".join(result)+\"\\n\")\n",
    "                \n",
    "            f.writelines(to_write)\n",
    "            print(\"%s completed\" % (cnt*save_batch))\n",
    "        else:\n",
    "            break\n",
    "\n",
    "#     ../pangguosheng/python/bin/python\n"
   ]
  },
  {
   "cell_type": "markdown",
   "metadata": {},
   "source": [
    "## 脚本用"
   ]
  },
  {
   "cell_type": "code",
   "execution_count": null,
   "metadata": {
    "ExecuteTime": {
     "end_time": "2018-11-07T10:53:55.835684Z",
     "start_time": "2018-11-07T10:53:55.829770Z"
    }
   },
   "outputs": [],
   "source": [
    "#####################\n",
    "# ppp.sh:\n",
    "#   nohup python3 -u xxx.py > out_xxx.out &\n",
    "#   nohup python3 -u xxx.py > out_xxx.out &\n",
    "#   nohup python3 -u xxx.py > out_xxx.out &\n",
    "# 同时开启多个python进程调用wikiAPI\n",
    "#####################\n",
    "import itertools\n",
    "import pageviewapi as pv\n",
    "import pageviewapi.period\n",
    "from collections import deque\n",
    "import sys\n",
    "from urllib.parse import quote\n",
    "\n",
    "file_tag = sys.argv[1]\n",
    "load_path = \"/home/zhoutong/indiaDicts/indiaDict_onlyTitle_%s\" % file_tag\n",
    "save_path = \"/home/zhoutong/indiaDicts_withPV/indiaDict_%s\" % file_tag\n",
    "print(\"file_tag is %s\" % file_tag)\n",
    "print(\"read file at: %s\" % load_path)\n",
    "print(\"save file at: %s\" % save_path)\n",
    "def gen_titles():\n",
    "    with open(load_path,\"r\") as f:\n",
    "        for line in f:\n",
    "            yield line.strip(\"[]\\n\")\n",
    "\n",
    "\n",
    "dictGen = gen_titles()\n",
    "save_batch = 10\n",
    "cnt = 0\n",
    "with open(save_path,\"w+\") as f:\n",
    "    while True:\n",
    "        cnt += 1\n",
    "        targetList = list(itertools.islice(dictGen,save_batch))\n",
    "        if(len(targetList)>0):\n",
    "            to_write = deque()\n",
    "            for target_raw in targetList:\n",
    "                target = quote(target_raw)\n",
    "                try:\n",
    "                    last_7 = int(pv.period.sum_last(\"en.wikipedia\",target,last=7))\n",
    "                    last_30 = int(pv.period.sum_last(\"en.wikipedia\",target,last=30))\n",
    "                    last_90 = int(pv.period.sum_last(\"en.wikipedia\",target,last=90))\n",
    "                    last_365 = int(pv.period.sum_last(\"en.wikipedia\",target,last=365))\n",
    "                except pageviewapi.client.ZeroOrDataNotLoadedException as exp:\n",
    "                    last_7 = -1\n",
    "                    last_30 = -1\n",
    "                    last_90 = -1\n",
    "                    last_365 = -1\n",
    "                result = [str(i) for i in [target_raw,last_7,last_30,last_90,last_365]]\n",
    "                to_write.append(\"\\u0394\".join(result)+\"\\n\")\n",
    "                \n",
    "            f.writelines(to_write)\n",
    "            print(\"%s completed\" % (cnt*save_batch))\n",
    "        else:\n",
    "            break\n",
    "\n",
    "\n"
   ]
  },
  {
   "cell_type": "code",
   "execution_count": null,
   "metadata": {
    "ExecuteTime": {
     "end_time": "2018-11-08T02:14:00.983763Z",
     "start_time": "2018-11-08T02:14:00.325332Z"
    }
   },
   "outputs": [],
   "source": [
    "from urllib.parse import unquote\n",
    "\n",
    "with open(\"/home/zhoutong/indiaDicts_withPV/indiaDictWith_Title_PV.txt\", \"w+\") as f_toSave:\n",
    "    with open(\"/home/zhoutong/indiaDicts_withPV/indiaDictWith_Title_PV_urlencode.txt\", \"r+\") as f:\n",
    "        f_toSave.writelines([unquote(i) for i in f.readlines()])\n"
   ]
  },
  {
   "cell_type": "code",
   "execution_count": null,
   "metadata": {
    "ExecuteTime": {
     "end_time": "2018-11-09T03:21:05.658925Z",
     "start_time": "2018-11-09T03:21:05.649796Z"
    }
   },
   "outputs": [],
   "source": [
    "\"\\u0394\"\n"
   ]
  },
  {
   "cell_type": "markdown",
   "metadata": {},
   "source": [
    "## 可视化"
   ]
  },
  {
   "cell_type": "code",
   "execution_count": 1,
   "metadata": {
    "ExecuteTime": {
     "end_time": "2018-12-20T11:04:34.318468Z",
     "start_time": "2018-12-20T11:04:33.794309Z"
    }
   },
   "outputs": [
    {
     "data": {
      "text/html": [
       "<div>\n",
       "<style scoped>\n",
       "    .dataframe tbody tr th:only-of-type {\n",
       "        vertical-align: middle;\n",
       "    }\n",
       "\n",
       "    .dataframe tbody tr th {\n",
       "        vertical-align: top;\n",
       "    }\n",
       "\n",
       "    .dataframe thead th {\n",
       "        text-align: right;\n",
       "    }\n",
       "</style>\n",
       "<table border=\"1\" class=\"dataframe\">\n",
       "  <thead>\n",
       "    <tr style=\"text-align: right;\">\n",
       "      <th></th>\n",
       "      <th>textLength</th>\n",
       "      <th>pv7</th>\n",
       "      <th>pv30</th>\n",
       "      <th>pv90</th>\n",
       "      <th>pv365</th>\n",
       "    </tr>\n",
       "  </thead>\n",
       "  <tbody>\n",
       "    <tr>\n",
       "      <th>0</th>\n",
       "      <td>11</td>\n",
       "      <td>NaN</td>\n",
       "      <td>NaN</td>\n",
       "      <td>NaN</td>\n",
       "      <td>NaN</td>\n",
       "    </tr>\n",
       "    <tr>\n",
       "      <th>1</th>\n",
       "      <td>2</td>\n",
       "      <td>NaN</td>\n",
       "      <td>NaN</td>\n",
       "      <td>NaN</td>\n",
       "      <td>NaN</td>\n",
       "    </tr>\n",
       "    <tr>\n",
       "      <th>2</th>\n",
       "      <td>44</td>\n",
       "      <td>NaN</td>\n",
       "      <td>NaN</td>\n",
       "      <td>NaN</td>\n",
       "      <td>NaN</td>\n",
       "    </tr>\n",
       "  </tbody>\n",
       "</table>\n",
       "</div>"
      ],
      "text/plain": [
       "   textLength  pv7  pv30  pv90  pv365\n",
       "0          11  NaN   NaN   NaN    NaN\n",
       "1           2  NaN   NaN   NaN    NaN\n",
       "2          44  NaN   NaN   NaN    NaN"
      ]
     },
     "execution_count": 1,
     "metadata": {},
     "output_type": "execute_result"
    }
   ],
   "source": [
    "import pandas as pd\n",
    "import math\n",
    "import matplotlib.pyplot as plt\n",
    "df = pd.read_csv(\"/home/zhoutong/data.csv\",header=None,names=[\"textLength\",\"pv7\",\"pv30\",\"pv90\",\"pv365\"])\n",
    "# df['pv7'] = df['pv7'].apply(lambda x: x if x>0 else 1).apply(math.log)\n",
    "df.head(3)"
   ]
  },
  {
   "cell_type": "code",
   "execution_count": 3,
   "metadata": {
    "ExecuteTime": {
     "end_time": "2018-12-20T11:04:50.601486Z",
     "start_time": "2018-12-20T11:04:50.520269Z"
    }
   },
   "outputs": [
    {
     "data": {
      "text/plain": [
       "textLength    0.0\n",
       "pv7           NaN\n",
       "pv30          NaN\n",
       "pv90          NaN\n",
       "pv365         NaN\n",
       "Name: 0.01, dtype: float64"
      ]
     },
     "execution_count": 3,
     "metadata": {},
     "output_type": "execute_result"
    }
   ],
   "source": [
    "# 0.999 百分位 和 0.001 百分位\n",
    "threshold = df['pv7'].quantile(0.99999)\n",
    "df['pv7'].describe()\n",
    "df.describe()\n",
    "df.quantile(0.01)"
   ]
  },
  {
   "cell_type": "code",
   "execution_count": 4,
   "metadata": {
    "ExecuteTime": {
     "end_time": "2018-12-20T11:04:50.606331Z",
     "start_time": "2018-12-20T11:04:50.603076Z"
    },
    "scrolled": false
   },
   "outputs": [],
   "source": [
    "# 统计 textLength\n",
    "def sta(inp,left_cut=-float('inf'),right_cut=float('inf'),top_cut=float(\"inf\"),show=0):\n",
    "    df_tmp = df.groupby(inp).size().reset_index(name=\"count\").sort_values(by=[inp])\n",
    "    df_toUse = df_tmp[(df_tmp[inp] > left_cut) & (df_tmp[inp] < right_cut) & (df_tmp[\"count\"]<top_cut)]\n",
    "    df_toUse.plot(title=inp,x=inp,y='count')\n",
    "    plt.show()\n",
    "    print(\"*** groupby(inp).size:\\n\",df_toUse.groupby(inp).size().reset_index(name=\"count\").describe())\n",
    "    if(show>0): print(\"*** head(show)\\n\",df_toUse.groupby(inp).size().reset_index(name=\"count\").head(show))\n"
   ]
  },
  {
   "cell_type": "code",
   "execution_count": 11,
   "metadata": {
    "ExecuteTime": {
     "end_time": "2018-12-20T11:05:34.320486Z",
     "start_time": "2018-12-20T11:05:33.983942Z"
    },
    "scrolled": false
   },
   "outputs": [
    {
     "data": {
      "image/png": "[encoded data removed]",
      "text/plain": [
       "<Figure size 432x288 with 1 Axes>"
      ]
     },
     "metadata": {
      "needs_background": "light"
     },
     "output_type": "display_data"
    },
    {
     "name": "stdout",
     "output_type": "stream",
     "text": [
      "*** groupby(inp).size:\n",
      "        textLength  count\n",
      "count  158.000000  158.0\n",
      "mean    88.727848    1.0\n",
      "std     66.530262    0.0\n",
      "min      0.000000    1.0\n",
      "25%     39.250000    1.0\n",
      "50%     78.500000    1.0\n",
      "75%    126.750000    1.0\n",
      "max    469.000000    1.0\n"
     ]
    },
    {
     "data": {
      "image/png": "[encoded data removed]",
      "text/plain": [
       "<Figure size 432x288 with 1 Axes>"
      ]
     },
     "metadata": {
      "needs_background": "light"
     },
     "output_type": "display_data"
    },
    {
     "name": "stdout",
     "output_type": "stream",
     "text": [
      "*** groupby(inp).size:\n",
      "        textLength  count\n",
      "count  158.000000  158.0\n",
      "mean    88.727848    1.0\n",
      "std     66.530262    0.0\n",
      "min      0.000000    1.0\n",
      "25%     39.250000    1.0\n",
      "50%     78.500000    1.0\n",
      "75%    126.750000    1.0\n",
      "max    469.000000    1.0\n"
     ]
    }
   ],
   "source": [
    "sta(\"textLength\")\n",
    "sta(\"textLength\",right_cut=100*1000)"
   ]
  },
  {
   "cell_type": "code",
   "execution_count": 6,
   "metadata": {
    "ExecuteTime": {
     "end_time": "2018-12-20T11:04:51.025793Z",
     "start_time": "2018-12-20T11:04:50.955734Z"
    },
    "scrolled": true
   },
   "outputs": [
    {
     "ename": "ValueError",
     "evalue": "Length of passed values is 295067, index implies 0",
     "output_type": "error",
     "traceback": [
      "\u001b[0;31m---------------------------------------------------------------------------\u001b[0m",
      "\u001b[0;31mValueError\u001b[0m                                Traceback (most recent call last)",
      "\u001b[0;32m<ipython-input-6-e3a7ae7b8734>\u001b[0m in \u001b[0;36m<module>\u001b[0;34m()\u001b[0m\n\u001b[0;32m----> 1\u001b[0;31m \u001b[0msta\u001b[0m\u001b[0;34m(\u001b[0m\u001b[0;34m\"pv7\"\u001b[0m\u001b[0;34m)\u001b[0m\u001b[0;34m\u001b[0m\u001b[0m\n\u001b[0m\u001b[1;32m      2\u001b[0m \u001b[0msta\u001b[0m\u001b[0;34m(\u001b[0m\u001b[0;34m\"pv7\"\u001b[0m\u001b[0;34m,\u001b[0m\u001b[0mtop_cut\u001b[0m\u001b[0;34m=\u001b[0m\u001b[0;36m3\u001b[0m\u001b[0;34m,\u001b[0m\u001b[0mshow\u001b[0m\u001b[0;34m=\u001b[0m\u001b[0;36m10\u001b[0m\u001b[0;34m)\u001b[0m\u001b[0;34m\u001b[0m\u001b[0m\n",
      "\u001b[0;32m<ipython-input-4-b072842b8af3>\u001b[0m in \u001b[0;36msta\u001b[0;34m(inp, left_cut, right_cut, top_cut, show)\u001b[0m\n\u001b[1;32m      1\u001b[0m \u001b[0;31m# 统计 textLength\u001b[0m\u001b[0;34m\u001b[0m\u001b[0;34m\u001b[0m\u001b[0m\n\u001b[1;32m      2\u001b[0m \u001b[0;32mdef\u001b[0m \u001b[0msta\u001b[0m\u001b[0;34m(\u001b[0m\u001b[0minp\u001b[0m\u001b[0;34m,\u001b[0m\u001b[0mleft_cut\u001b[0m\u001b[0;34m=\u001b[0m\u001b[0;34m-\u001b[0m\u001b[0mfloat\u001b[0m\u001b[0;34m(\u001b[0m\u001b[0;34m'inf'\u001b[0m\u001b[0;34m)\u001b[0m\u001b[0;34m,\u001b[0m\u001b[0mright_cut\u001b[0m\u001b[0;34m=\u001b[0m\u001b[0mfloat\u001b[0m\u001b[0;34m(\u001b[0m\u001b[0;34m'inf'\u001b[0m\u001b[0;34m)\u001b[0m\u001b[0;34m,\u001b[0m\u001b[0mtop_cut\u001b[0m\u001b[0;34m=\u001b[0m\u001b[0mfloat\u001b[0m\u001b[0;34m(\u001b[0m\u001b[0;34m\"inf\"\u001b[0m\u001b[0;34m)\u001b[0m\u001b[0;34m,\u001b[0m\u001b[0mshow\u001b[0m\u001b[0;34m=\u001b[0m\u001b[0;36m0\u001b[0m\u001b[0;34m)\u001b[0m\u001b[0;34m:\u001b[0m\u001b[0;34m\u001b[0m\u001b[0m\n\u001b[0;32m----> 3\u001b[0;31m     \u001b[0mdf_tmp\u001b[0m \u001b[0;34m=\u001b[0m \u001b[0mdf\u001b[0m\u001b[0;34m.\u001b[0m\u001b[0mgroupby\u001b[0m\u001b[0;34m(\u001b[0m\u001b[0minp\u001b[0m\u001b[0;34m)\u001b[0m\u001b[0;34m.\u001b[0m\u001b[0msize\u001b[0m\u001b[0;34m(\u001b[0m\u001b[0;34m)\u001b[0m\u001b[0;34m.\u001b[0m\u001b[0mreset_index\u001b[0m\u001b[0;34m(\u001b[0m\u001b[0mname\u001b[0m\u001b[0;34m=\u001b[0m\u001b[0;34m\"count\"\u001b[0m\u001b[0;34m)\u001b[0m\u001b[0;34m.\u001b[0m\u001b[0msort_values\u001b[0m\u001b[0;34m(\u001b[0m\u001b[0mby\u001b[0m\u001b[0;34m=\u001b[0m\u001b[0;34m[\u001b[0m\u001b[0minp\u001b[0m\u001b[0;34m]\u001b[0m\u001b[0;34m)\u001b[0m\u001b[0;34m\u001b[0m\u001b[0m\n\u001b[0m\u001b[1;32m      4\u001b[0m     \u001b[0mdf_toUse\u001b[0m \u001b[0;34m=\u001b[0m \u001b[0mdf_tmp\u001b[0m\u001b[0;34m[\u001b[0m\u001b[0;34m(\u001b[0m\u001b[0mdf_tmp\u001b[0m\u001b[0;34m[\u001b[0m\u001b[0minp\u001b[0m\u001b[0;34m]\u001b[0m \u001b[0;34m>\u001b[0m \u001b[0mleft_cut\u001b[0m\u001b[0;34m)\u001b[0m \u001b[0;34m&\u001b[0m \u001b[0;34m(\u001b[0m\u001b[0mdf_tmp\u001b[0m\u001b[0;34m[\u001b[0m\u001b[0minp\u001b[0m\u001b[0;34m]\u001b[0m \u001b[0;34m<\u001b[0m \u001b[0mright_cut\u001b[0m\u001b[0;34m)\u001b[0m \u001b[0;34m&\u001b[0m \u001b[0;34m(\u001b[0m\u001b[0mdf_tmp\u001b[0m\u001b[0;34m[\u001b[0m\u001b[0;34m\"count\"\u001b[0m\u001b[0;34m]\u001b[0m\u001b[0;34m<\u001b[0m\u001b[0mtop_cut\u001b[0m\u001b[0;34m)\u001b[0m\u001b[0;34m]\u001b[0m\u001b[0;34m\u001b[0m\u001b[0m\n\u001b[1;32m      5\u001b[0m     \u001b[0mdf_toUse\u001b[0m\u001b[0;34m.\u001b[0m\u001b[0mplot\u001b[0m\u001b[0;34m(\u001b[0m\u001b[0mtitle\u001b[0m\u001b[0;34m=\u001b[0m\u001b[0minp\u001b[0m\u001b[0;34m,\u001b[0m\u001b[0mx\u001b[0m\u001b[0;34m=\u001b[0m\u001b[0minp\u001b[0m\u001b[0;34m,\u001b[0m\u001b[0my\u001b[0m\u001b[0;34m=\u001b[0m\u001b[0;34m'count'\u001b[0m\u001b[0;34m)\u001b[0m\u001b[0;34m\u001b[0m\u001b[0m\n",
      "\u001b[0;32m~/python3/lib/python3.6/site-packages/pandas/core/groupby/groupby.py\u001b[0m in \u001b[0;36msize\u001b[0;34m(self)\u001b[0m\n\u001b[1;32m   1392\u001b[0m     \u001b[0;32mdef\u001b[0m \u001b[0msize\u001b[0m\u001b[0;34m(\u001b[0m\u001b[0mself\u001b[0m\u001b[0;34m)\u001b[0m\u001b[0;34m:\u001b[0m\u001b[0;34m\u001b[0m\u001b[0m\n\u001b[1;32m   1393\u001b[0m         \u001b[0;34m\"\"\"Compute group sizes\"\"\"\u001b[0m\u001b[0;34m\u001b[0m\u001b[0m\n\u001b[0;32m-> 1394\u001b[0;31m         \u001b[0mresult\u001b[0m \u001b[0;34m=\u001b[0m \u001b[0mself\u001b[0m\u001b[0;34m.\u001b[0m\u001b[0mgrouper\u001b[0m\u001b[0;34m.\u001b[0m\u001b[0msize\u001b[0m\u001b[0;34m(\u001b[0m\u001b[0;34m)\u001b[0m\u001b[0;34m\u001b[0m\u001b[0m\n\u001b[0m\u001b[1;32m   1395\u001b[0m \u001b[0;34m\u001b[0m\u001b[0m\n\u001b[1;32m   1396\u001b[0m         \u001b[0;32mif\u001b[0m \u001b[0misinstance\u001b[0m\u001b[0;34m(\u001b[0m\u001b[0mself\u001b[0m\u001b[0;34m.\u001b[0m\u001b[0mobj\u001b[0m\u001b[0;34m,\u001b[0m \u001b[0mSeries\u001b[0m\u001b[0;34m)\u001b[0m\u001b[0;34m:\u001b[0m\u001b[0;34m\u001b[0m\u001b[0m\n",
      "\u001b[0;32m~/python3/lib/python3.6/site-packages/pandas/core/groupby/groupby.py\u001b[0m in \u001b[0;36msize\u001b[0;34m(self)\u001b[0m\n\u001b[1;32m   2314\u001b[0m         return Series(out,\n\u001b[1;32m   2315\u001b[0m                       \u001b[0mindex\u001b[0m\u001b[0;34m=\u001b[0m\u001b[0mself\u001b[0m\u001b[0;34m.\u001b[0m\u001b[0mresult_index\u001b[0m\u001b[0;34m,\u001b[0m\u001b[0;34m\u001b[0m\u001b[0m\n\u001b[0;32m-> 2316\u001b[0;31m                       dtype='int64')\n\u001b[0m\u001b[1;32m   2317\u001b[0m \u001b[0;34m\u001b[0m\u001b[0m\n\u001b[1;32m   2318\u001b[0m     \u001b[0;34m@\u001b[0m\u001b[0mcache_readonly\u001b[0m\u001b[0;34m\u001b[0m\u001b[0m\n",
      "\u001b[0;32m~/python3/lib/python3.6/site-packages/pandas/core/series.py\u001b[0m in \u001b[0;36m__init__\u001b[0;34m(self, data, index, dtype, name, copy, fastpath)\u001b[0m\n\u001b[1;32m    260\u001b[0m                             \u001b[0;34m'Length of passed values is {val}, '\u001b[0m\u001b[0;34m\u001b[0m\u001b[0m\n\u001b[1;32m    261\u001b[0m                             \u001b[0;34m'index implies {ind}'\u001b[0m\u001b[0;34m\u001b[0m\u001b[0m\n\u001b[0;32m--> 262\u001b[0;31m                             .format(val=len(data), ind=len(index)))\n\u001b[0m\u001b[1;32m    263\u001b[0m                 \u001b[0;32mexcept\u001b[0m \u001b[0mTypeError\u001b[0m\u001b[0;34m:\u001b[0m\u001b[0;34m\u001b[0m\u001b[0m\n\u001b[1;32m    264\u001b[0m                     \u001b[0;32mpass\u001b[0m\u001b[0;34m\u001b[0m\u001b[0m\n",
      "\u001b[0;31mValueError\u001b[0m: Length of passed values is 295067, index implies 0"
     ]
    }
   ],
   "source": [
    "sta(\"pv7\")\n",
    "sta(\"pv7\",top_cut=3,show=10)"
   ]
  },
  {
   "cell_type": "code",
   "execution_count": null,
   "metadata": {
    "ExecuteTime": {
     "end_time": "2018-12-20T11:04:51.026505Z",
     "start_time": "2018-12-20T11:05:00.065Z"
    }
   },
   "outputs": [],
   "source": [
    "sta(\"pv30\")"
   ]
  },
  {
   "cell_type": "code",
   "execution_count": null,
   "metadata": {
    "ExecuteTime": {
     "end_time": "2018-12-20T11:04:51.027233Z",
     "start_time": "2018-12-20T11:05:00.067Z"
    }
   },
   "outputs": [],
   "source": [
    "sta(\"pv365\")"
   ]
  },
  {
   "cell_type": "code",
   "execution_count": null,
   "metadata": {
    "ExecuteTime": {
     "end_time": "2018-12-20T11:04:51.027910Z",
     "start_time": "2018-12-20T11:05:00.069Z"
    }
   },
   "outputs": [],
   "source": [
    "int('inf')"
   ]
  },
  {
   "cell_type": "code",
   "execution_count": null,
   "metadata": {
    "ExecuteTime": {
     "end_time": "2018-12-20T11:04:51.028562Z",
     "start_time": "2018-12-20T11:05:00.071Z"
    },
    "scrolled": false
   },
   "outputs": [],
   "source": [
    "tmp = df['pv7'].sort_values().reset_index(drop=True)\n",
    "\n",
    "a = tmp[(tmp.index>142280)]\n",
    "\n",
    "a.plot(kind='hist')\n",
    "\n",
    "\n"
   ]
  },
  {
   "cell_type": "code",
   "execution_count": null,
   "metadata": {
    "ExecuteTime": {
     "end_time": "2018-11-09T08:28:54.649548Z",
     "start_time": "2018-11-09T08:28:54.345250Z"
    }
   },
   "outputs": [],
   "source": [
    "df1=pd.read_csv(\"/home/zhoutong/data.csv\",header=None,names=[\"hit_wordCnt\"])\n",
    "df1.plot(kind='hist')\n",
    "df1[df1['hit_wordCnt'] <= 2].size\n",
    "\n",
    "\n",
    "# df1[df1['hit_wordCnt'] >= 50].size\n",
    "df1.quantile(0.28)\n",
    "df1.size\n"
   ]
  },
  {
   "cell_type": "markdown",
   "metadata": {
    "ExecuteTime": {
     "end_time": "2018-12-11T12:12:12.772175Z",
     "start_time": "2018-12-11T12:12:12.736724Z"
    }
   },
   "source": [
    "## 统一分析DeepFM的log日志"
   ]
  },
  {
   "cell_type": "code",
   "execution_count": 7,
   "metadata": {
    "ExecuteTime": {
     "end_time": "2018-12-20T11:05:11.784679Z",
     "start_time": "2018-12-20T11:05:11.781855Z"
    }
   },
   "outputs": [],
   "source": [
    "file_dir = [\"auc_872_params1\",\"auc_8799\",\"dt=2018-12-14-09-40-48\",\n",
    "            \"dt=2018-12-17-09-46-11\",\"dt=2018-12-17-12-18-29\",\n",
    "            \"dt=2018-12-17-13-26-45\",\"dt=2018-12-17-15-22-38\",\n",
    "            \"dt=2018-12-18-10-20-48\",\"dt=2018-12-18-12-50-44\",\n",
    "            \"dt=2018-12-18-14-16-55\",\"dt=2018-12-18-16-44-06\",\n",
    "            \"dt=2018-12-18-18-31-56\",\"dt=2018-12-18-20-58-05\",\n",
    "            \"dt=2018-12-19-17-28-02\",\"dt=2018-12-19-21-43-13\",\n",
    "            \"dt=2018-12-20-17-50-19\"]\n",
    "base_path = \"/home/zhoutong/tf_modelInfo/type=midas/{dir}/auc_logloss.log\""
   ]
  },
  {
   "cell_type": "code",
   "execution_count": 22,
   "metadata": {
    "ExecuteTime": {
     "end_time": "2018-12-20T11:46:55.835580Z",
     "start_time": "2018-12-20T11:46:55.832720Z"
    }
   },
   "outputs": [],
   "source": [
    "def generate():\n",
    "    with open(base_path.format(dir=file_dir[0]),'r') as f:\n",
    "        for line in f:\n",
    "            yield line\n",
    "generator = generate()"
   ]
  },
  {
   "cell_type": "code",
   "execution_count": null,
   "metadata": {},
   "outputs": [],
   "source": [
    "total_parameters cnt : 1917031\n",
    "feature_embeddings size=173873*10=1738730\n",
    "feature_bias size=173873*1=173873\n",
    "layer_0 size=266*16=4256\n",
    "bias_0 size=1*16=16\n",
    "layer_1 size=16*8=128\n",
    "bias_1 size=1*8=8\n",
    "concat_projection size=19*1=19\n",
    "concat_bias size==0\n"
   ]
  },
  {
   "cell_type": "code",
   "execution_count": 24,
   "metadata": {
    "ExecuteTime": {
     "end_time": "2018-12-20T11:46:58.261136Z",
     "start_time": "2018-12-20T11:46:58.258145Z"
    }
   },
   "outputs": [
    {
     "data": {
      "text/plain": [
       "'INFO |2018-12-20 09:28:36|   /home/zhoutong/data/apus_ad/midas/tfrecord_2018-11-01_to_2018-11-23_and_2018-11-24_to_2018-11-30_itr_filterRepeatView_intersectLR_addBucket_fra0.01\\n'"
      ]
     },
     "execution_count": 24,
     "metadata": {},
     "output_type": "execute_result"
    }
   ],
   "source": [
    "for i in generator:\n",
    "    if \"/home/zhoutong/data/apus_ad/\" in i:\n",
    "        i.split(\" \")[-1]\n",
    "    elif :\n",
    "        "
   ]
  },
  {
   "cell_type": "code",
   "execution_count": null,
   "metadata": {},
   "outputs": [],
   "source": []
  }
 ],
 "metadata": {
  "kernelspec": {
   "display_name": "Python 3",
   "language": "python",
   "name": "python3"
  },
  "language_info": {
   "codemirror_mode": {
    "name": "ipython",
    "version": 3
   },
   "file_extension": ".py",
   "mimetype": "text/x-python",
   "name": "python",
   "nbconvert_exporter": "python",
   "pygments_lexer": "ipython3",
   "version": "3.6.5"
  }
 },
 "nbformat": 4,
 "nbformat_minor": 2
}
